{
 "cells": [
  {
   "cell_type": "code",
   "execution_count": null,
   "id": "33d62ae7",
   "metadata": {},
   "outputs": [],
   "source": [
    "%load_ext autoreload\n",
    "%autoreload 2\n",
    "\n",
    "import xarray as xr\n",
    "import numpy as np\n",
    "from dask.distributed import Client\n",
    "import matplotlib as mpl\n",
    "import matplotlib.pyplot as plt\n",
    "import seaborn as sns\n",
    "import pandas as pd\n",
    "from scipy import stats\n",
    "import xesmf as xe\n",
    "from scipy.stats import linregress\n",
    "import os\n",
    "\n",
    "# Lets import our functions. There are no tests here. Stored separately so as to not make a mess.\n",
    "# Make sure in right dir first\n",
    "\n",
    "os.chdir('/g/data/xv83/np1383/CAFE60_eqpac/')\n",
    "from a_carbon_math import carbon_flux\n",
    "from a_model_cutting_functions import CAFE60_eqpac_cutter, cut_regrid_reynolds_sst,cut_process_sst_obs_trends,proc_landschutzer,process_co2_land_trends"
   ]
  },
  {
   "cell_type": "code",
   "execution_count": null,
   "id": "de1ac566",
   "metadata": {},
   "outputs": [],
   "source": [
    "# Set up the remote dask cluster\n",
    "from dask.distributed import Client,Scheduler\n",
    "from dask_jobqueue import SLURMCluster\n",
    "cluster = SLURMCluster(cores=2,memory=\"8GB\")\n",
    "client = Client(cluster)\n",
    "#cluster.scale(cores=4)\n",
    "cluster.adapt(minimum=2, maximum=6)"
   ]
  },
  {
   "cell_type": "code",
   "execution_count": null,
   "id": "8dbfe4c7-60f5-4421-9a95-d6255f6df173",
   "metadata": {},
   "outputs": [],
   "source": []
  },
  {
   "cell_type": "code",
   "execution_count": null,
   "id": "4c1235a3-63d7-4860-a48a-f5aff85674d4",
   "metadata": {},
   "outputs": [],
   "source": [
    "def cut_regrid_sst():\n",
    "    sst_obs=xr.open_dataset('/scratch1/pit071/carbon_data_ch2/sst.mnmean.nc')\n",
    "    sst_obs=sst_obs.sst.sel(lat=slice(20,-20),lon=slice(120,290),time=slice('1982-01-01','2019-12-01'))\n",
    "    regridder = xe.Regridder(sst_obs, sst_cafe, 'bilinear',reuse_weights=True)\n",
    "    sst_obs_regrid=regridder(sst_obs)\n",
    "    sst_obs_regrid.to_netcdf('/scratch1/pit071/CAFE60/sst.mnmean.regrid.nc')"
   ]
  },
  {
   "cell_type": "code",
   "execution_count": null,
   "id": "0dd78034-1e85-47ff-8458-32204e4072e1",
   "metadata": {},
   "outputs": [],
   "source": []
  },
  {
   "cell_type": "code",
   "execution_count": null,
   "id": "42272997-603b-4473-b671-bbdd9f73f22e",
   "metadata": {},
   "outputs": [],
   "source": []
  },
  {
   "cell_type": "code",
   "execution_count": null,
   "id": "dd9dc835-dd41-40c5-a673-1753059a77ac",
   "metadata": {},
   "outputs": [],
   "source": []
  },
  {
   "cell_type": "code",
   "execution_count": null,
   "id": "1ccdf584",
   "metadata": {},
   "outputs": [],
   "source": [
    "#Cut out global and eqpac reynolds SST and calculate trends for them. Saved in /scratch1/pit071/CAFE60/processed/obs/\n",
    "cut_regrid_reynolds_sst(True,True) #Cut eqpac SST,force (If force=True will delete any existing file and resave)\n",
    "cut_regrid_reynolds_sst(False,True) #Cut global SST and force save \n",
    "cut_process_sst_obs_trends(True) #Force trends for both global and eqpac. Should do both eqpac and global.  \n",
    "\n",
    "#Basically the same as above but for landshutzer.\n",
    "#proc_landschutzer(False,True) \n",
    "proc_landschutzer(True,True,True)\n",
    "process_co2_land_trends(True)\n",
    "proc_landschutzer(False,True,True) #Do old landshutzer as well"
   ]
  }
 ],
 "metadata": {
  "kernelspec": {
   "display_name": "Python 3",
   "language": "python",
   "name": "python3"
  },
  "language_info": {
   "codemirror_mode": {
    "name": "ipython",
    "version": 3
   },
   "file_extension": ".py",
   "mimetype": "text/x-python",
   "name": "python",
   "nbconvert_exporter": "python",
   "pygments_lexer": "ipython3",
   "version": "3.8.10"
  }
 },
 "nbformat": 4,
 "nbformat_minor": 5
}
