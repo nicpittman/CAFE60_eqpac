{
 "cells": [
  {
   "cell_type": "code",
   "execution_count": 1,
   "id": "9cd30e33-94dc-4ba0-a081-763bfea328d6",
   "metadata": {},
   "outputs": [],
   "source": [
    "# %load C60_jupyter_imports.py\n",
    "%load_ext autoreload\n",
    "%autoreload 2\n",
    "\n",
    "import xarray as xr\n",
    "import numpy as np\n",
    "from dask.distributed import Client\n",
    "import matplotlib as mpl\n",
    "import matplotlib.pyplot as plt\n",
    "import seaborn as sns\n",
    "import pandas as pd\n",
    "from scipy import stats\n",
    "import xesmf as xe\n",
    "from scipy.stats import linregress\n",
    "import os\n",
    "import requests\n",
    "# Lets import our functions. There are no tests here. Stored separately so as to not make a mess.\n",
    "# Make sure in right dir first\n",
    "\n",
    "os.chdir('/g/data/xv83/np1383/src_CAFE60_eqpac_analysis_code/')\n",
    "from C60_obs_functions import cut_regrid_reynolds_sst,cut_process_sst_obs_trends,proc_landschutzer,process_co2_land_trends, proc_rodenbeck,process_co2_rodenbeck_trends\n",
    "from C60_helper_functions import check_existing_file"
   ]
  },
  {
   "cell_type": "code",
   "execution_count": null,
   "id": "40a89e02-39c1-4e86-92bf-9737fc252b2d",
   "metadata": {},
   "outputs": [],
   "source": []
  },
  {
   "cell_type": "code",
   "execution_count": 2,
   "id": "de1ac566",
   "metadata": {},
   "outputs": [
    {
     "name": "stderr",
     "output_type": "stream",
     "text": [
      "/g/data3/hh5/public/apps/miniconda3/envs/analysis3-21.04/lib/python3.8/site-packages/distributed/node.py:160: UserWarning: Port 8787 is already in use.\n",
      "Perhaps you already have a cluster running?\n",
      "Hosting the HTTP server on port 33111 instead\n",
      "  warnings.warn(\n"
     ]
    }
   ],
   "source": [
    "# Set up the remote dask cluster\n",
    "from dask.distributed import Client,Scheduler\n",
    "from dask_jobqueue import SLURMCluster\n",
    "cluster = SLURMCluster(cores=2,memory=\"16GB\")\n",
    "client = Client(cluster)"
   ]
  },
  {
   "cell_type": "code",
   "execution_count": 3,
   "id": "50b191e0-f6f3-49c1-9243-85df1cf2e20d",
   "metadata": {},
   "outputs": [],
   "source": [
    "cluster.scale(cores=8)"
   ]
  },
  {
   "cell_type": "code",
   "execution_count": 4,
   "id": "49a7177f-a313-4184-8665-e7295310811c",
   "metadata": {},
   "outputs": [
    {
     "data": {
      "application/vnd.jupyter.widget-view+json": {
       "model_id": "f98e7dff77bc4fc9833aae16a583f0fa",
       "version_major": 2,
       "version_minor": 0
      },
      "text/plain": [
       "VBox(children=(HTML(value='<h2>SLURMCluster</h2>'), HBox(children=(HTML(value='\\n<div>\\n  <style scoped>\\n    …"
      ]
     },
     "metadata": {},
     "output_type": "display_data"
    }
   ],
   "source": [
    "cluster"
   ]
  },
  {
   "cell_type": "code",
   "execution_count": null,
   "id": "c1890726-4cf5-4ad5-a254-35d16b796e3c",
   "metadata": {},
   "outputs": [],
   "source": []
  },
  {
   "cell_type": "code",
   "execution_count": null,
   "id": "4e7c1ac8-af07-46ee-a9a9-dd86bb1a9534",
   "metadata": {},
   "outputs": [],
   "source": [
    "#Cut out global and eqpac reynolds SST and calculate trends for them. Saved in /scratch1/pit071/CAFE60/processed/obs/\n",
    "#cuttropics=False,force=False,\n",
    "cut_regrid_reynolds_sst(True,True) #Cut eqpac SST,force (If force=True will delete any existing file and resave)\n",
    "cut_regrid_reynolds_sst(False,True) #Cut global SST and force save \n",
    "cut_process_sst_obs_trends(True) #Force trends for both global and eqpac. Should do both eqpac and global.  "
   ]
  },
  {
   "cell_type": "code",
   "execution_count": null,
   "id": "0dd78034-1e85-47ff-8458-32204e4072e1",
   "metadata": {},
   "outputs": [],
   "source": [
    "#Basically the same as above but for landshutzer.\n",
    "#proc_landschutzer(False,True) \n",
    "\n",
    "#cuttropics=False,force=False,\n",
    "proc_landschutzer(True,True)\n",
    "proc_landschutzer(False,True) \n",
    "process_co2_land_trends(True) #Force trends for both global and eqpac. Should do both eqpac and global.  "
   ]
  },
  {
   "cell_type": "code",
   "execution_count": null,
   "id": "0a831040-2f3e-4767-87bd-44bf85c3b0f0",
   "metadata": {},
   "outputs": [],
   "source": []
  },
  {
   "cell_type": "code",
   "execution_count": 7,
   "id": "60b39003-4f3b-4241-a7fe-5b4da00ebd52",
   "metadata": {},
   "outputs": [
    {
     "name": "stdout",
     "output_type": "stream",
     "text": [
      "Saved and reloaded intermediate step, now regridding\n",
      "Normalising to m2\n"
     ]
    },
    {
     "name": "stderr",
     "output_type": "stream",
     "text": [
      "/g/data3/hh5/public/apps/miniconda3/envs/analysis3-21.04/lib/python3.8/site-packages/xarray/core/dataarray.py:745: FutureWarning: elementwise comparison failed; returning scalar instead, but in the future will perform elementwise comparison\n",
      "  return key in self.data\n",
      "/g/data3/hh5/public/apps/miniconda3/envs/analysis3-21.04/lib/python3.8/site-packages/xesmf/frontend.py:466: FutureWarning: ``output_sizes`` should be given in the ``dask_gufunc_kwargs`` parameter. It will be removed as direct parameter in a future version.\n",
      "  dr_out = xr.apply_ufunc(\n",
      "/g/data3/hh5/public/apps/miniconda3/envs/analysis3-21.04/lib/python3.8/site-packages/xesmf/frontend.py:496: FutureWarning: ``output_sizes`` should be given in the ``dask_gufunc_kwargs`` parameter. It will be removed as direct parameter in a future version.\n",
      "  ds_out = xr.apply_ufunc(\n"
     ]
    },
    {
     "name": "stdout",
     "output_type": "stream",
     "text": [
      "Regridded\n",
      "0.102367328\n",
      "loaded\n",
      "<xarray.Dataset>\n",
      "Dimensions:        (lat: 98, lon: 170, time: 768)\n",
      "Coordinates:\n",
      "  * time           (time) datetime64[ns] 1957-01-01 1957-02-01 ... 2020-12-01\n",
      "  * lon            (lon) float64 120.5 121.5 122.5 123.5 ... 287.5 288.5 289.5\n",
      "  * lat            (lat) float64 -19.36 -18.59 -17.85 ... 17.85 18.59 19.36\n",
      "Data variables:\n",
      "    co2flux_ocean  (time, lat, lon) float64 0.02016 0.01209 ... -0.008125\n",
      "Attributes:\n",
      "    regrid_method:  bilinear\n",
      "saving to: /g/data/xv83/np1383/processed_data/obs/rodenbeck_eqpac_regrid.nc\n",
      "Saved and reloaded intermediate step, now regridding\n",
      "Normalising to m2\n"
     ]
    },
    {
     "name": "stderr",
     "output_type": "stream",
     "text": [
      "/g/data3/hh5/public/apps/miniconda3/envs/analysis3-21.04/lib/python3.8/site-packages/xarray/core/dataarray.py:745: FutureWarning: elementwise comparison failed; returning scalar instead, but in the future will perform elementwise comparison\n",
      "  return key in self.data\n",
      "/g/data3/hh5/public/apps/miniconda3/envs/analysis3-21.04/lib/python3.8/site-packages/xesmf/frontend.py:466: FutureWarning: ``output_sizes`` should be given in the ``dask_gufunc_kwargs`` parameter. It will be removed as direct parameter in a future version.\n",
      "  dr_out = xr.apply_ufunc(\n",
      "/g/data3/hh5/public/apps/miniconda3/envs/analysis3-21.04/lib/python3.8/site-packages/xesmf/frontend.py:496: FutureWarning: ``output_sizes`` should be given in the ``dask_gufunc_kwargs`` parameter. It will be removed as direct parameter in a future version.\n",
      "  ds_out = xr.apply_ufunc(\n"
     ]
    },
    {
     "name": "stdout",
     "output_type": "stream",
     "text": [
      "Regridded\n",
      "0.663563424\n",
      "loaded\n",
      "<xarray.Dataset>\n",
      "Dimensions:        (lat: 300, lon: 360, time: 768)\n",
      "Coordinates:\n",
      "  * time           (time) datetime64[ns] 1957-01-01 1957-02-01 ... 2020-12-01\n",
      "  * lon            (lon) float64 80.5 81.5 82.5 83.5 ... 436.5 437.5 438.5 439.5\n",
      "  * lat            (lat) float64 -77.88 -77.63 -77.38 ... 88.87 89.32 89.77\n",
      "Data variables:\n",
      "    co2flux_ocean  (time, lat, lon) float64 0.0 0.0 0.0 0.0 ... 0.0 0.0 0.0 0.0\n",
      "Attributes:\n",
      "    regrid_method:  bilinear\n",
      "saving to: /g/data/xv83/np1383/processed_data/obs/rodenbeck_global_regrid.nc\n",
      "Saving 1982 CO2 flux trends\n",
      "Saving 2000 CO2 flux trends\n",
      "Saving 1982 CO2 flux trends\n",
      "Saving 2000 CO2 flux trends\n"
     ]
    }
   ],
   "source": [
    "# Ok also do the rodenbeck CO2 fluxcor product.\n",
    "proc_rodenbeck(cuttropics=True,force=True)\n",
    "proc_rodenbeck(cuttropics=False,force=True)\n",
    "process_co2_rodenbeck_trends(force=True)"
   ]
  },
  {
   "cell_type": "code",
   "execution_count": null,
   "id": "93a6c7e7-b4ba-4b38-89d5-f993e0b2cb69",
   "metadata": {},
   "outputs": [],
   "source": []
  }
 ],
 "metadata": {
  "jupytext": {
   "formats": "ipynb,py"
  },
  "kernelspec": {
   "display_name": "Python [conda env:analysis3]",
   "language": "python",
   "name": "conda-env-analysis3-py"
  },
  "language_info": {
   "codemirror_mode": {
    "name": "ipython",
    "version": 3
   },
   "file_extension": ".py",
   "mimetype": "text/x-python",
   "name": "python",
   "nbconvert_exporter": "python",
   "pygments_lexer": "ipython3",
   "version": "3.9.7"
  }
 },
 "nbformat": 4,
 "nbformat_minor": 5
}
