{
 "cells": [
  {
   "cell_type": "code",
   "execution_count": 1,
   "metadata": {},
   "outputs": [],
   "source": [
    "%load_ext autoreload\n",
    "%autoreload 2\n",
    "\n",
    "import xarray as xr\n",
    "import numpy as np\n",
    "from dask.distributed import Client\n",
    "import matplotlib as mpl\n",
    "import matplotlib.pyplot as plt\n",
    "import seaborn as sns\n",
    "import pandas as pd\n",
    "from scipy import stats\n",
    "import xesmf as xe\n",
    "from scipy.stats import linregress\n",
    "import os\n",
    "import requests\n",
    "# Lets import our functions. There are no tests here. Stored separately so as to not make a mess.\n",
    "# Make sure in right dir first\n",
    "\n",
    "os.chdir('/g/data/xv83/np1383/CAFE60_eqpac/')\n",
    "from a_carbon_math import carbon_flux\n",
    "from a_model_cutting_functions import CAFE60_eqpac_cutter, cut_regrid_reynolds_sst,cut_process_sst_obs_trends,proc_landschutzer,process_co2_land_trends"
   ]
  },
  {
   "cell_type": "code",
   "execution_count": 1,
   "metadata": {},
   "outputs": [],
   "source": []
  },
  {
   "cell_type": "code",
   "execution_count": 2,
   "metadata": {},
   "outputs": [],
   "source": [
    "def Download_TPCA():\n",
    "    '''\n",
    "    Function to download TPCA MODIS and SeaWIFS from nci.org.\n",
    "    \n",
    "    Possible to also use DAPPS through xarray and save the files\n",
    "    rather than using requests.\n",
    "    '''\n",
    "    path_sw='/g/data/xv83/np1383/external_data/chl/TPCA/seawifs/'\n",
    "    if not os.path.isdir(path_sw):\n",
    "        print('Creating directory: ',path_sw)\n",
    "        os.makedirs(path_sw)\n",
    "       \n",
    "    path_mod='/g/data/xv83/np1383/external_data/chl/TPCA/modis/'\n",
    "    if not os.path.isdir(path_mod):\n",
    "        print('Creating directory: ',path_mod)\n",
    "        os.makedirs(path_mod)\n",
    "    \n",
    "    \n",
    "    tpca_link=['http://dapds00.nci.org.au/thredds/fileServer/ks32/CLEX_Data/TPCA_reprocessing/v2019_01/']\n",
    "    sensors=['SeaWiFS/tpca_seawifs_','MODIS-Aqua/tpca_modis_aqua_'] #and then year\n",
    "    sens=['sw','mod']           \n",
    "    #Download SeaWiFS files from the above array, spaced by each year.\n",
    "    \n",
    "    for i in range(0,2): #To do SeaWiFS and then MODIS\n",
    "        for yr in np.arange(1997,2020):\n",
    "            if i==0: #SW\n",
    "                sensor=tpca_link[0]+sensors[0]+str(yr)+'.nc'\n",
    "                path=path_sw\n",
    "            elif i==1: #MODIS\n",
    "                sensor=tpca_link[0]+sensors[1]+str(yr)+'.nc'\n",
    "                path=path_mod\n",
    "        \n",
    "            #Start the download\n",
    "            try:\n",
    "                r = requests.get(sensor)#,timeout=s20)\n",
    "                fileloc=path+sensors[0].split('/')[1]+str(yr)+'.nc'\n",
    "                if r.status_code!=404:\n",
    "                    with open(fileloc, 'wb') as f:\n",
    "                        f.write(r.content)\n",
    "                    print('Downloaded: ' + sens[i] + str(yr))\n",
    "                else:\n",
    "                    print(i,str(r.status_code))\n",
    "            except KeyboardInterrupt:\n",
    "                import sys\n",
    "                sys.exit()\n",
    "            except:\n",
    "                print(str(yr)+ sens[i]+'  Unavailable')\n",
    "            pass"
   ]
  },
  {
   "cell_type": "code",
   "execution_count": 3,
   "metadata": {},
   "outputs": [
    {
     "name": "stdout",
     "output_type": "stream",
     "text": [
      "Downloaded: sw1997\n",
      "Downloaded: sw1998\n",
      "Downloaded: sw1999\n",
      "Downloaded: sw2000\n",
      "Downloaded: sw2001\n",
      "Downloaded: sw2002\n",
      "Downloaded: sw2003\n",
      "Downloaded: sw2004\n",
      "Downloaded: sw2005\n",
      "Downloaded: sw2006\n",
      "Downloaded: sw2007\n",
      "Downloaded: sw2008\n",
      "Downloaded: sw2009\n",
      "Downloaded: sw2010\n",
      "0 404\n",
      "0 404\n",
      "0 404\n",
      "0 404\n",
      "0 404\n",
      "0 404\n",
      "0 404\n",
      "0 404\n",
      "0 404\n",
      "1 404\n",
      "1 404\n",
      "1 404\n",
      "1 404\n",
      "1 404\n",
      "Downloaded: mod2002\n",
      "Downloaded: mod2003\n",
      "Downloaded: mod2004\n",
      "Downloaded: mod2005\n",
      "Downloaded: mod2006\n",
      "Downloaded: mod2007\n",
      "Downloaded: mod2008\n",
      "Downloaded: mod2009\n",
      "Downloaded: mod2010\n",
      "Downloaded: mod2011\n",
      "Downloaded: mod2012\n",
      "Downloaded: mod2013\n",
      "Downloaded: mod2014\n",
      "Downloaded: mod2015\n",
      "Downloaded: mod2016\n",
      "Downloaded: mod2017\n",
      "Downloaded: mod2018\n",
      "Downloaded: mod2019\n"
     ]
    }
   ],
   "source": [
    "Download_TPCA()"
   ]
  },
  {
   "cell_type": "code",
   "execution_count": 82,
   "metadata": {},
   "outputs": [],
   "source": []
  },
  {
   "cell_type": "code",
   "execution_count": null,
   "metadata": {},
   "outputs": [],
   "source": [
    "# Need to Get Phy Working in step 1."
   ]
  },
  {
   "cell_type": "code",
   "execution_count": 3,
   "metadata": {},
   "outputs": [
    {
     "ename": "NameError",
     "evalue": "name 'phy' is not defined",
     "output_type": "error",
     "traceback": [
      "\u001b[0;31m---------------------------------------------------------------------------\u001b[0m",
      "\u001b[0;31mNameError\u001b[0m                                 Traceback (most recent call last)",
      "\u001b[0;32m<ipython-input-3-9f8de588b81d>\u001b[0m in \u001b[0;36m<module>\u001b[0;34m\u001b[0m\n\u001b[1;32m     15\u001b[0m \u001b[0;34m\u001b[0m\u001b[0m\n\u001b[1;32m     16\u001b[0m \u001b[0;31m#Regrid TPCA to Model grid\u001b[0m\u001b[0;34m\u001b[0m\u001b[0;34m\u001b[0m\u001b[0;34m\u001b[0m\u001b[0m\n\u001b[0;32m---> 17\u001b[0;31m \u001b[0mregridder\u001b[0m \u001b[0;34m=\u001b[0m \u001b[0mxe\u001b[0m\u001b[0;34m.\u001b[0m\u001b[0mRegridder\u001b[0m\u001b[0;34m(\u001b[0m\u001b[0mtpca_m\u001b[0m\u001b[0;34m,\u001b[0m \u001b[0mphy\u001b[0m\u001b[0;34m,\u001b[0m \u001b[0;34m'bilinear'\u001b[0m\u001b[0;34m,\u001b[0m\u001b[0mreuse_weights\u001b[0m\u001b[0;34m=\u001b[0m\u001b[0;32mTrue\u001b[0m\u001b[0;34m)\u001b[0m\u001b[0;34m\u001b[0m\u001b[0;34m\u001b[0m\u001b[0m\n\u001b[0m\u001b[1;32m     18\u001b[0m \u001b[0mtpca_m_regrid\u001b[0m\u001b[0;34m=\u001b[0m\u001b[0mregridder\u001b[0m\u001b[0;34m(\u001b[0m\u001b[0mtpca_m\u001b[0m\u001b[0;34m)\u001b[0m\u001b[0;34m\u001b[0m\u001b[0;34m\u001b[0m\u001b[0m\n\u001b[1;32m     19\u001b[0m \u001b[0;34m\u001b[0m\u001b[0m\n",
      "\u001b[0;31mNameError\u001b[0m: name 'phy' is not defined"
     ]
    }
   ],
   "source": [
    "#Load TPCA data\n",
    "seawifs_tpca=xr.open_mfdataset('/g/data/xv83/np1383/external_data/chl/TPCA/seawifs/*nc').rename({'chl_tpca':'seawifs_tpca'})\n",
    "modis_tpca=xr.open_mfdataset('/g/data/xv83/np1383/external_data/chl/TPCA/seawifs/*nc').rename({'chl_tpca':'modis_tpca'})\n",
    "\n",
    "\n",
    "#Make TPCA mean data\n",
    "tpca=xr.merge([seawifs_tpca,modis_tpca])\n",
    "mean = tpca.to_array(dim='new').mean('new')\n",
    "tpca_m=tpca.assign(tpca=mean)\n",
    "\n",
    "#Calculate monthly average\n",
    "tpca_m=tpca_m.resample({'time':'M'}).mean(dim='time')\n",
    "tpca_m['time']=tpca_m.time.astype('datetime64[M]')\n",
    "\n",
    "\n",
    "#Regrid TPCA to Model grid\n",
    "regridder = xe.Regridder(tpca_m, phy, 'bilinear',reuse_weights=True)\n",
    "tpca_m_regrid=regridder(tpca_m)\n",
    "\n",
    "#Fill 0 to NAN\n",
    "tpca_m_regrid = tpca_m_regrid.where(tpca_m_regrid > 0)\n",
    "tpca_m_regrid = tpca_m_regrid.bfill('time')\n",
    "tpca_m_regrid.to_netcdf('/g/data/xv83/np1383/external_data/chl/TPCA_month_regrid.nc')"
   ]
  },
  {
   "cell_type": "code",
   "execution_count": 148,
   "metadata": {},
   "outputs": [],
   "source": []
  }
 ],
 "metadata": {
  "kernelspec": {
   "display_name": "Python 3",
   "language": "python",
   "name": "python3"
  },
  "language_info": {
   "codemirror_mode": {
    "name": "ipython",
    "version": 3
   },
   "file_extension": ".py",
   "mimetype": "text/x-python",
   "name": "python",
   "nbconvert_exporter": "python",
   "pygments_lexer": "ipython3",
   "version": "3.8.10"
  }
 },
 "nbformat": 4,
 "nbformat_minor": 4
}
