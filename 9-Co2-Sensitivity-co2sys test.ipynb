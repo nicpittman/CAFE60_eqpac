{
 "cells": [
  {
   "cell_type": "code",
   "execution_count": 1,
   "id": "51f1f96c-156a-412b-968e-d39e2ec5177c",
   "metadata": {},
   "outputs": [],
   "source": [
    "# %load C60_jupyter_imports.py\n",
    "%load_ext autoreload\n",
    "%autoreload 2\n",
    "\n",
    "import xarray as xr\n",
    "import numpy as np\n",
    "from dask.distributed import Client\n",
    "import matplotlib as mpl\n",
    "import matplotlib.pyplot as plt\n",
    "import seaborn as sns\n",
    "import pandas as pd\n",
    "from scipy import stats\n",
    "import xesmf as xe\n",
    "from scipy.stats import linregress\n",
    "import os\n",
    "import requests\n",
    "# Lets import our functions. There are no tests here. Stored separately so as to not make a mess.\n",
    "# Make sure in right dir first\n",
    "\n",
    "os.chdir('/g/data/xv83/np1383/src_CAFE60_eqpac_analysis_code/')\n",
    "from C60_obs_functions import cut_regrid_reynolds_sst,cut_process_sst_obs_trends,proc_landschutzer,process_co2_land_trends"
   ]
  },
  {
   "cell_type": "code",
   "execution_count": 5,
   "id": "c1e5a058-d243-4f27-b86d-715afe4600ca",
   "metadata": {},
   "outputs": [],
   "source": [
    "import PyCO2SYS as pyco2"
   ]
  },
  {
   "cell_type": "code",
   "execution_count": null,
   "id": "d5c4df30-3aad-4cc0-8afa-b0c362737b38",
   "metadata": {},
   "outputs": [],
   "source": [
    "bgc=xr.open_zarr('/g/data/xv83/dcfp/CAFE60v1/ocean_bgc_month.zarr.zip')\n",
    "bgc=bgc.rename({'xt_ocean':'lon','yt_ocean':'lat'})\n",
    "bgc['lon']=bgc['lon']+360\n",
    "eqpac=bgc.sel(lon=slice(120,290),lat=slice(-20,20))\n",
    "#eqpac.time\n",
    "eqpac"
   ]
  },
  {
   "cell_type": "code",
   "execution_count": 7,
   "id": "5b12e726-e12d-44d6-9063-3ed7caaa7aed",
   "metadata": {},
   "outputs": [],
   "source": [
    "phys=xr.open_zarr('/g/data/xv83/dcfp/CAFE60v1/ocean_month.zarr.zip')\n",
    "phys=phys.rename({'xu_ocean':'lon_x','yu_ocean':'lat_x'})\n",
    "phys=phys.rename({'xt_ocean':'lon','yt_ocean':'lat'})\n",
    "\n",
    "phys['lon']=phys['lon']+360\n",
    "phys['lon_x']=phys['lon_x']+360\n",
    "phys['st_ocean']=phys['st_ocean']*-1\n",
    "phys['sw_ocean']=phys['sw_ocean']*-1\n",
    "phys_eqpac=phys.sel(lon=slice(120,290),lat=slice(-20,20))"
   ]
  },
  {
   "cell_type": "code",
   "execution_count": 6,
   "id": "7687fae3-9bae-433b-b918-8919446a8757",
   "metadata": {},
   "outputs": [
    {
     "data": {
      "text/plain": [
       "<function PyCO2SYS.engine.nd.CO2SYS(par1=None, par2=None, par1_type=None, par2_type=None, salinity=35, temperature=25, pressure=0, temperature_out=None, pressure_out=None, total_ammonia=0, total_phosphate=0, total_silicate=0, total_sulfide=0, total_borate=None, total_calcium=None, total_fluoride=None, total_sulfate=None, opt_gas_constant=3, opt_k_bisulfate=1, opt_k_carbonic=16, opt_k_fluoride=1, opt_pH_scale=1, opt_total_borate=1, buffers_mode='auto', k_ammonia=None, k_ammonia_out=None, k_borate=None, k_borate_out=None, k_bisulfate=None, k_bisulfate_out=None, k_CO2=None, k_CO2_out=None, k_carbonic_1=None, k_carbonic_1_out=None, k_carbonic_2=None, k_carbonic_2_out=None, k_fluoride=None, k_fluoride_out=None, k_phosphoric_1=None, k_phosphoric_1_out=None, k_phosphoric_2=None, k_phosphoric_2_out=None, k_phosphoric_3=None, k_phosphoric_3_out=None, k_silicate=None, k_silicate_out=None, k_sulfide=None, k_sulfide_out=None, k_water=None, k_water_out=None, k_calcite=None, k_calcite_out=None, k_aragonite=None, k_aragonite_out=None, fugacity_factor=None, fugacity_factor_out=None, gas_constant=None, gas_constant_out=None, total_alpha=None, k_alpha=None, k_alpha_out=None, total_beta=None, k_beta=None, k_beta_out=None, vp_factor=None, vp_factor_out=None, grads_of=None, grads_wrt=None, uncertainty_into=None, uncertainty_from=None, pressure_atmosphere=1.0, pressure_atmosphere_out=1.0)>"
      ]
     },
     "execution_count": 6,
     "metadata": {},
     "output_type": "execute_result"
    }
   ],
   "source": [
    "pyco2.sys"
   ]
  },
  {
   "cell_type": "code",
   "execution_count": null,
   "id": "076de0b4-1b69-42b3-9bdc-ca33463ffde0",
   "metadata": {},
   "outputs": [],
   "source": []
  }
 ],
 "metadata": {
  "kernelspec": {
   "display_name": "Python 3 (ipykernel)",
   "language": "python",
   "name": "python3"
  },
  "language_info": {
   "codemirror_mode": {
    "name": "ipython",
    "version": 3
   },
   "file_extension": ".py",
   "mimetype": "text/x-python",
   "name": "python",
   "nbconvert_exporter": "python",
   "pygments_lexer": "ipython3",
   "version": "3.9.7"
  }
 },
 "nbformat": 4,
 "nbformat_minor": 5
}
